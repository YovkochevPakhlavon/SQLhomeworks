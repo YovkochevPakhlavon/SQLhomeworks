{
 "cells": [
  {
   "cell_type": "code",
   "execution_count": 2,
   "metadata": {},
   "outputs": [
    {
     "ename": "Error",
     "evalue": "('01000', \"[01000] [unixODBC][Driver Manager]Can't open lib 'SQL Server' : file not found (0) (SQLDriverConnect)\")",
     "output_type": "error",
     "traceback": [
      "\u001b[0;31m---------------------------------------------------------------------------\u001b[0m",
      "\u001b[0;31mError\u001b[0m                                     Traceback (most recent call last)",
      "Cell \u001b[0;32mIn[2], line 4\u001b[0m\n\u001b[1;32m      1\u001b[0m \u001b[38;5;28;01mimport\u001b[39;00m \u001b[38;5;21;01mpyodbc\u001b[39;00m\n\u001b[1;32m      3\u001b[0m \u001b[38;5;66;03m# Connect to SQL Server\u001b[39;00m\n\u001b[0;32m----> 4\u001b[0m conn \u001b[38;5;241m=\u001b[39m pyodbc\u001b[38;5;241m.\u001b[39mconnect(\n\u001b[1;32m      5\u001b[0m     \u001b[38;5;124m'\u001b[39m\u001b[38;5;124mDRIVER=\u001b[39m\u001b[38;5;124m{\u001b[39m\u001b[38;5;124mSQL Server};\u001b[39m\u001b[38;5;124m'\u001b[39m\n\u001b[1;32m      6\u001b[0m     \u001b[38;5;124m'\u001b[39m\u001b[38;5;124mSERVER=localhost,1433;\u001b[39m\u001b[38;5;124m'\u001b[39m  \n\u001b[1;32m      7\u001b[0m     \u001b[38;5;124m'\u001b[39m\u001b[38;5;124mDATABASE=class2;\u001b[39m\u001b[38;5;124m'\u001b[39m  \n\u001b[1;32m      8\u001b[0m     \u001b[38;5;124m'\u001b[39m\u001b[38;5;124mUID=sa;\u001b[39m\u001b[38;5;124m'\u001b[39m\n\u001b[1;32m      9\u001b[0m     \u001b[38;5;124m'\u001b[39m\u001b[38;5;124mPWD=YourStrongPassword1\u001b[39m\u001b[38;5;124m'\u001b[39m \n\u001b[1;32m     10\u001b[0m )\n\u001b[1;32m     12\u001b[0m cursor \u001b[38;5;241m=\u001b[39m conn\u001b[38;5;241m.\u001b[39mcursor()\n\u001b[1;32m     14\u001b[0m \u001b[38;5;66;03m# Retrieve the image\u001b[39;00m\n",
      "\u001b[0;31mError\u001b[0m: ('01000', \"[01000] [unixODBC][Driver Manager]Can't open lib 'SQL Server' : file not found (0) (SQLDriverConnect)\")"
     ]
    }
   ],
   "source": [
    "import pyodbc\n",
    "\n",
    "# Connect to SQL Server\n",
    "conn = pyodbc.connect(\n",
    "    'DRIVER={SQL Server};'\n",
    "    'SERVER=localhost,1433;'  \n",
    "    'DATABASE=class2;'  \n",
    "    'UID=sa;'\n",
    "    'PWD=YourStrongPassword1' \n",
    ")\n",
    "\n",
    "cursor = conn.cursor()\n",
    "\n",
    "# Retrieve the image\n",
    "cursor.execute(\"SELECT image_data FROM photos WHERE id = 1\")\n",
    "row = cursor.fetchone()\n",
    "\n",
    "if row:\n",
    "    image_data = row[0]\n",
    "    # Save to file\n",
    "    with open(\"retrieved_image.jpg\", \"wb\") as f:\n",
    "        f.write(image_data)\n",
    "    print(\"✅ Image saved successfully as 'retrieved_image.jpg'\")\n",
    "else:\n",
    "    print(\"❌ No image found in the table.\")\n",
    "\n",
    "cursor.close()\n",
    "conn.close()"
   ]
  },
  {
   "cell_type": "code",
   "execution_count": null,
   "metadata": {},
   "outputs": [],
   "source": []
  }
 ],
 "metadata": {
  "kernelspec": {
   "display_name": "base",
   "language": "python",
   "name": "python3"
  },
  "language_info": {
   "codemirror_mode": {
    "name": "ipython",
    "version": 3
   },
   "file_extension": ".py",
   "mimetype": "text/x-python",
   "name": "python",
   "nbconvert_exporter": "python",
   "pygments_lexer": "ipython3",
   "version": "3.11.5"
  }
 },
 "nbformat": 4,
 "nbformat_minor": 2
}
